{
 "cells": [
  {
   "cell_type": "code",
   "execution_count": 16,
   "metadata": {},
   "outputs": [
    {
     "name": "stdout",
     "output_type": "stream",
     "text": [
      "D:/Deep Learning Projects/stone_paper_scissor/dataset\\None directory already exists.\n",
      "All images gathered will be saved along with existing items in this folder\n",
      "\n",
      "0 image(s) saved to D:/Deep Learning Projects/stone_paper_scissor/dataset\\None\n"
     ]
    }
   ],
   "source": [
    "desc = '''Script to gather data images with a particular label.\n",
    "Usage: python gather_images.py <label_name> <num_samples>\n",
    "The script will collect <num_samples> number of images and store them\n",
    "in its own directory.\n",
    "Only the portion of the image within the box displayed\n",
    "will be captured and stored.\n",
    "Press 'a' to start/pause the image collecting process.\n",
    "Press 'q' to quit.\n",
    "'''\n",
    "\n",
    "import cv2\n",
    "import os\n",
    "import sys\n",
    "\n",
    "try:\n",
    "    label_name = sys.argv[1]\n",
    "    num_samples = 500\n",
    "except:\n",
    "    print(\"Arguments missing.\")\n",
    "    print(desc)\n",
    "    exit(-1)\n",
    "\n",
    "IMG_SAVE_PATH = 'D:/Deep Learning Projects/stone_paper_scissor/dataset'\n",
    "IMG_CLASS_PATH = os.path.join(IMG_SAVE_PATH, 'None')\n",
    "\n",
    "try:\n",
    "    os.mkdir(IMG_SAVE_PATH)\n",
    "except FileExistsError:\n",
    "    pass\n",
    "try:\n",
    "    os.mkdir(IMG_CLASS_PATH)\n",
    "except FileExistsError:\n",
    "    print(\"{} directory already exists.\".format(IMG_CLASS_PATH))\n",
    "    print(\"All images gathered will be saved along with existing items in this folder\")\n",
    "\n",
    "cap = cv2.VideoCapture(0)\n",
    "\n",
    "start = False\n",
    "count = 0\n",
    "\n",
    "while True:\n",
    "    ret, frame = cap.read()\n",
    "    if not ret:\n",
    "        continue\n",
    "\n",
    "    if count == num_samples:\n",
    "        break\n",
    "\n",
    "    cv2.rectangle(frame, (100, 100), (500, 500), (255, 255, 255), 2)\n",
    "\n",
    "    if start:\n",
    "        roi = frame[100:500, 100:500]\n",
    "        save_path = os.path.join(IMG_CLASS_PATH, '{}.jpg'.format(count + 1))\n",
    "        cv2.imwrite(save_path, roi)\n",
    "        count += 1\n",
    "\n",
    "    font = cv2.FONT_HERSHEY_SIMPLEX\n",
    "    cv2.putText(frame, \"Collecting {}\".format(count),\n",
    "            (5, 50), font, 0.7, (0, 255, 255), 2, cv2.LINE_AA)\n",
    "    cv2.imshow(\"Collecting images\", frame)\n",
    "\n",
    "    k = cv2.waitKey(10)\n",
    "    if k == ord('a'):\n",
    "        start = not start\n",
    "\n",
    "    if k == ord('q'):\n",
    "        break\n",
    "\n",
    "print(\"\\n{} image(s) saved to {}\".format(count, IMG_CLASS_PATH))\n",
    "cap.release()\n",
    "cv2.destroyAllWindows()"
   ]
  },
  {
   "cell_type": "code",
   "execution_count": null,
   "metadata": {},
   "outputs": [],
   "source": []
  }
 ],
 "metadata": {
  "kernelspec": {
   "display_name": "Python 3.9.13 64-bit (windows store)",
   "language": "python",
   "name": "python3"
  },
  "language_info": {
   "codemirror_mode": {
    "name": "ipython",
    "version": 3
   },
   "file_extension": ".py",
   "mimetype": "text/x-python",
   "name": "python",
   "nbconvert_exporter": "python",
   "pygments_lexer": "ipython3",
   "version": "3.9.13"
  },
  "orig_nbformat": 4,
  "vscode": {
   "interpreter": {
    "hash": "931965570dab6fcf7c8147f4219f05b1598763ad3a7d4ac5e053709c02cc5765"
   }
  }
 },
 "nbformat": 4,
 "nbformat_minor": 2
}
